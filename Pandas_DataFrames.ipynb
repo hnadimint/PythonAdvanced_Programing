{
 "cells": [
  {
   "cell_type": "code",
   "execution_count": null,
   "metadata": {},
   "outputs": [],
   "source": [
    "Pandas Continution/Understanding the concept of DataFrames:"
   ]
  },
  {
   "cell_type": "code",
   "execution_count": 1,
   "metadata": {},
   "outputs": [],
   "source": [
    "import numpy as np\n",
    "import pandas as pd"
   ]
  },
  {
   "cell_type": "code",
   "execution_count": null,
   "metadata": {},
   "outputs": [],
   "source": [
    "DataFrames: It can handle the 2 dimentional data....!"
   ]
  },
  {
   "cell_type": "code",
   "execution_count": null,
   "metadata": {},
   "outputs": [],
   "source": [
    "General syntax of a DataFrame :"
   ]
  },
  {
   "cell_type": "code",
   "execution_count": null,
   "metadata": {},
   "outputs": [],
   "source": [
    "pandas.DataFrame(data,index,columns,dtype,copy) =>General syntax of DataFrames"
   ]
  },
  {
   "cell_type": "code",
   "execution_count": 2,
   "metadata": {},
   "outputs": [
    {
     "name": "stdout",
     "output_type": "stream",
     "text": [
      "Empty DataFrame\n",
      "Columns: []\n",
      "Index: []\n"
     ]
    }
   ],
   "source": [
    "#Creating a empty DataFrame\n",
    "\n",
    "df = pd.DataFrame()\n",
    "\n",
    "print(df)"
   ]
  },
  {
   "cell_type": "code",
   "execution_count": 3,
   "metadata": {},
   "outputs": [],
   "source": [
    "#Creating a DataFrame from a list\n",
    "\n",
    "data =['ram','gangadhar','sumanth','ravi','prem']"
   ]
  },
  {
   "cell_type": "code",
   "execution_count": 4,
   "metadata": {},
   "outputs": [
    {
     "name": "stdout",
     "output_type": "stream",
     "text": [
      "           0\n",
      "0        ram\n",
      "1  gangadhar\n",
      "2    sumanth\n",
      "3       ravi\n",
      "4       prem\n"
     ]
    }
   ],
   "source": [
    "df =pd.DataFrame(data) #It also gives default columns ...!\n",
    "\n",
    "print(df)"
   ]
  },
  {
   "cell_type": "code",
   "execution_count": null,
   "metadata": {},
   "outputs": [],
   "source": [
    "Raw data convert into proper format using pandas"
   ]
  },
  {
   "cell_type": "code",
   "execution_count": 13,
   "metadata": {},
   "outputs": [],
   "source": [
    "data = [['Ram',10],['Gangadhar',9],['sumanth',8],['Ravi',7],['Prem',9],['Suren',10]]"
   ]
  },
  {
   "cell_type": "code",
   "execution_count": 14,
   "metadata": {},
   "outputs": [
    {
     "name": "stdout",
     "output_type": "stream",
     "text": [
      "        NAme  Marks\n",
      "0        Ram     10\n",
      "1  Gangadhar      9\n",
      "2    sumanth      8\n",
      "3       Ravi      7\n",
      "4       Prem      9\n",
      "5      Suren     10\n"
     ]
    }
   ],
   "source": [
    "df = pd.DataFrame(data,columns = ['NAme','Marks'])\n",
    "\n",
    "print(df)"
   ]
  },
  {
   "cell_type": "code",
   "execution_count": 15,
   "metadata": {},
   "outputs": [
    {
     "name": "stdout",
     "output_type": "stream",
     "text": [
      "        NAme  Marks\n",
      "0        Ram   10.0\n",
      "1  Gangadhar    9.0\n",
      "2    sumanth    8.0\n",
      "3       Ravi    7.0\n",
      "4       Prem    9.0\n",
      "5      Suren   10.0\n"
     ]
    }
   ],
   "source": [
    "#accurate values to print proper format using pandas DataFrames\n",
    "\n",
    "df = pd.DataFrame(data,columns = ['NAme','Marks'],dtype=float)\n",
    "\n",
    "print(df)"
   ]
  },
  {
   "cell_type": "code",
   "execution_count": null,
   "metadata": {},
   "outputs": [],
   "source": [
    "#Enhancement of the code"
   ]
  },
  {
   "cell_type": "code",
   "execution_count": 16,
   "metadata": {},
   "outputs": [
    {
     "name": "stdout",
     "output_type": "stream",
     "text": [
      "            NAme  Marks\n",
      "Rank1        Ram     10\n",
      "Rank2  Gangadhar      9\n",
      "Rank3    sumanth      8\n",
      "Rank4       Ravi      7\n",
      "Rank2       Prem      9\n",
      "Rank1      Suren     10\n"
     ]
    }
   ],
   "source": [
    "df = pd.DataFrame(data,columns = ['NAme','Marks'],index = ['Rank1','Rank2','Rank3','Rank4','Rank2','Rank1'])\n",
    "\n",
    "print(df)\n"
   ]
  },
  {
   "cell_type": "code",
   "execution_count": null,
   "metadata": {},
   "outputs": [],
   "source": [
    "Creating a DataFrames from dictionary of ndarrays/list....!"
   ]
  },
  {
   "cell_type": "code",
   "execution_count": 20,
   "metadata": {},
   "outputs": [],
   "source": [
    "data = {'Name' : ['bikesh','arhan','akhil','ram','hariram'], 'Age' :[20,21,22,23,24]}"
   ]
  },
  {
   "cell_type": "code",
   "execution_count": 22,
   "metadata": {},
   "outputs": [
    {
     "name": "stdout",
     "output_type": "stream",
     "text": [
      "      Name  Age\n",
      "0   bikesh   20\n",
      "1    arhan   21\n",
      "2    akhil   22\n",
      "3      ram   23\n",
      "4  hariram   24\n"
     ]
    }
   ],
   "source": [
    "#Dictionary keys by default will be converting as column in the pandas....!\n",
    "\n",
    "df = pd.DataFrame(data)\n",
    "\n",
    "print(df)"
   ]
  },
  {
   "cell_type": "code",
   "execution_count": null,
   "metadata": {},
   "outputs": [],
   "source": []
  },
  {
   "cell_type": "code",
   "execution_count": null,
   "metadata": {},
   "outputs": [],
   "source": []
  },
  {
   "cell_type": "code",
   "execution_count": null,
   "metadata": {},
   "outputs": [],
   "source": []
  },
  {
   "cell_type": "code",
   "execution_count": null,
   "metadata": {},
   "outputs": [],
   "source": []
  },
  {
   "cell_type": "code",
   "execution_count": null,
   "metadata": {},
   "outputs": [],
   "source": []
  },
  {
   "cell_type": "code",
   "execution_count": null,
   "metadata": {},
   "outputs": [],
   "source": []
  },
  {
   "cell_type": "code",
   "execution_count": null,
   "metadata": {},
   "outputs": [],
   "source": []
  },
  {
   "cell_type": "code",
   "execution_count": null,
   "metadata": {},
   "outputs": [],
   "source": []
  },
  {
   "cell_type": "code",
   "execution_count": null,
   "metadata": {},
   "outputs": [],
   "source": []
  }
 ],
 "metadata": {
  "kernelspec": {
   "display_name": "Python 3",
   "language": "python",
   "name": "python3"
  },
  "language_info": {
   "codemirror_mode": {
    "name": "ipython",
    "version": 3
   },
   "file_extension": ".py",
   "mimetype": "text/x-python",
   "name": "python",
   "nbconvert_exporter": "python",
   "pygments_lexer": "ipython3",
   "version": "3.7.6"
  }
 },
 "nbformat": 4,
 "nbformat_minor": 4
}
